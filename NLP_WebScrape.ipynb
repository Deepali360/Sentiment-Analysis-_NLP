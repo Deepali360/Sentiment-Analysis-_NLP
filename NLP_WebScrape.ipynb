{
 "cells": [
  {
   "cell_type": "code",
   "execution_count": 1,
   "id": "2a5fb7c1",
   "metadata": {},
   "outputs": [],
   "source": [
    "import pandas as pd\n",
    "import requests\n",
    "from bs4 import BeautifulSoup"
   ]
  },
  {
   "cell_type": "code",
   "execution_count": 2,
   "id": "97b4e5a4",
   "metadata": {},
   "outputs": [],
   "source": [
    "webpage = requests.get('https://healthwatchsuffolk.co.uk/services/combs-ford-surgery-stowmarket-1?page=1')\n",
    "soup=BeautifulSoup(webpage.content,'lxml')"
   ]
  },
  {
   "cell_type": "code",
   "execution_count": 6,
   "id": "5040067b",
   "metadata": {},
   "outputs": [
    {
     "data": {
      "text/plain": [
       "'Cannot get face to face appointment'"
      ]
     },
     "execution_count": 6,
     "metadata": {},
     "output_type": "execute_result"
    }
   ],
   "source": [
    "soup.find_all('h3')[2].text #[2:12]"
   ]
  },
  {
   "cell_type": "code",
   "execution_count": 7,
   "id": "801d5b13",
   "metadata": {},
   "outputs": [
    {
     "data": {
      "text/plain": [
       "10"
      ]
     },
     "execution_count": 7,
     "metadata": {},
     "output_type": "execute_result"
    }
   ],
   "source": [
    "len(soup.find_all('h3')[2:12])"
   ]
  },
  {
   "cell_type": "code",
   "execution_count": 37,
   "id": "98cc94e3",
   "metadata": {},
   "outputs": [],
   "source": [
    "#services =(soup.find_all('div',class_ ='service-review')[1:11])\n",
    "\n",
    "services =(soup.find_all('div',class_ ='service-review'))"
   ]
  },
  {
   "cell_type": "code",
   "execution_count": 51,
   "id": "d437553c",
   "metadata": {},
   "outputs": [],
   "source": [
    "df.to_csv('C:/Users/Deepali Thakur/OneDrive - University of Suffolk/Desktop/DISSERTATION/df.csv',index= False)"
   ]
  },
  {
   "cell_type": "code",
   "execution_count": 84,
   "id": "e2eca647",
   "metadata": {},
   "outputs": [],
   "source": [
    "from selenium import webdriver\n",
    "from bs4 import BeautifulSoup\n",
    "import pandas as pd\n",
    "\n",
    "# Create a Selenium WebDriver instance\n",
    "driver = webdriver.Chrome()\n",
    "\n",
    "# Open the URL and get the page source\n",
    "url = 'https://healthwatchsuffolk.co.uk/services/combs-ford-surgery-stowmarket-1/'\n",
    "driver.get(url)\n",
    "page_source = driver.page_source\n",
    "\n",
    "# Create a BeautifulSoup object from the page source\n",
    "soup = BeautifulSoup(page_source, 'html.parser')\n",
    "\n",
    "# Find the service reviews\n",
    "services = soup.find_all('div', class_='service-review')\n",
    "\n",
    "Title = []\n",
    "Date = []\n",
    "Score = []\n",
    "Body = []\n",
    "\n",
    "for i in services:\n",
    "    if i is not None:\n",
    "        title = i.find('h3').text.strip()\n",
    "        date_elem = i.find('div', class_='service-review-date')\n",
    "        date = date_elem.text.strip() if date_elem else None\n",
    "        \n",
    "        \n",
    "        # Get the score (if available)\n",
    "        score_input = i.find('input', {'name': 'score'})\n",
    "        score = score_input['value'] if score_input else None\n",
    "        \n",
    "        body_elem = i.find('div', class_='service-review-body')\n",
    "        body = body_elem.text.strip() if body_elem else None\n",
    "        \n",
    "        Title.append(title)\n",
    "        Date.append(date)\n",
    "        Score.append(score)\n",
    "        Body.append(body)\n",
    "\n",
    "# Close the Selenium WebDriver\n",
    "driver.quit()\n",
    "\n",
    "# Create a DataFrame\n",
    "df = pd.DataFrame({'Title': Title, 'Date': Date, 'Score': Score, 'Body': Body})\n",
    "\n"
   ]
  },
  {
   "cell_type": "code",
   "execution_count": 85,
   "id": "1b692531",
   "metadata": {},
   "outputs": [
    {
     "data": {
      "text/html": [
       "<div>\n",
       "<style scoped>\n",
       "    .dataframe tbody tr th:only-of-type {\n",
       "        vertical-align: middle;\n",
       "    }\n",
       "\n",
       "    .dataframe tbody tr th {\n",
       "        vertical-align: top;\n",
       "    }\n",
       "\n",
       "    .dataframe thead th {\n",
       "        text-align: right;\n",
       "    }\n",
       "</style>\n",
       "<table border=\"1\" class=\"dataframe\">\n",
       "  <thead>\n",
       "    <tr style=\"text-align: right;\">\n",
       "      <th></th>\n",
       "      <th>Title</th>\n",
       "      <th>Date</th>\n",
       "      <th>Score</th>\n",
       "      <th>Body</th>\n",
       "    </tr>\n",
       "  </thead>\n",
       "  <tbody>\n",
       "    <tr>\n",
       "      <th>0</th>\n",
       "      <td>Your ratings (select if applicable)</td>\n",
       "      <td>None</td>\n",
       "      <td>None</td>\n",
       "      <td>None</td>\n",
       "    </tr>\n",
       "    <tr>\n",
       "      <th>1</th>\n",
       "      <td>Cannot get face to face appointment</td>\n",
       "      <td>June 26, 2023</td>\n",
       "      <td>2</td>\n",
       "      <td>I just cannot get a face to face appointment w...</td>\n",
       "    </tr>\n",
       "    <tr>\n",
       "      <th>2</th>\n",
       "      <td>Very happy with the surgery</td>\n",
       "      <td>January 23, 2023</td>\n",
       "      <td>4</td>\n",
       "      <td>I feel I'm getting on very well with the surge...</td>\n",
       "    </tr>\n",
       "    <tr>\n",
       "      <th>3</th>\n",
       "      <td>Ask My GP is quicker</td>\n",
       "      <td>January 23, 2023</td>\n",
       "      <td>5</td>\n",
       "      <td>I've found that Ask My GP is a quicker service...</td>\n",
       "    </tr>\n",
       "    <tr>\n",
       "      <th>4</th>\n",
       "      <td>Drs very good</td>\n",
       "      <td>January 23, 2023</td>\n",
       "      <td>4</td>\n",
       "      <td>Doctors are very good as are reception, I've n...</td>\n",
       "    </tr>\n",
       "    <tr>\n",
       "      <th>5</th>\n",
       "      <td>Not listened to brilliantly</td>\n",
       "      <td>January 23, 2023</td>\n",
       "      <td>4</td>\n",
       "      <td>Haven't had a great experience as I don't feel...</td>\n",
       "    </tr>\n",
       "    <tr>\n",
       "      <th>6</th>\n",
       "      <td>Long wait for blood test</td>\n",
       "      <td>January 23, 2023</td>\n",
       "      <td>2</td>\n",
       "      <td>I've had to wait 6 weeks for a blood test only...</td>\n",
       "    </tr>\n",
       "    <tr>\n",
       "      <th>7</th>\n",
       "      <td>Happy</td>\n",
       "      <td>January 23, 2023</td>\n",
       "      <td>4</td>\n",
       "      <td>I'm a very light user of the surgery and altho...</td>\n",
       "    </tr>\n",
       "    <tr>\n",
       "      <th>8</th>\n",
       "      <td>Works well</td>\n",
       "      <td>January 23, 2023</td>\n",
       "      <td>4</td>\n",
       "      <td>Using Ask My GP works well and allows you to s...</td>\n",
       "    </tr>\n",
       "    <tr>\n",
       "      <th>9</th>\n",
       "      <td>Not listened to</td>\n",
       "      <td>January 23, 2023</td>\n",
       "      <td>3</td>\n",
       "      <td>I do feel that I have been raising concerns fo...</td>\n",
       "    </tr>\n",
       "    <tr>\n",
       "      <th>10</th>\n",
       "      <td>Slow response</td>\n",
       "      <td>January 23, 2023</td>\n",
       "      <td>2</td>\n",
       "      <td>I had blood tests for something quite serious ...</td>\n",
       "    </tr>\n",
       "  </tbody>\n",
       "</table>\n",
       "</div>"
      ],
      "text/plain": [
       "                                  Title              Date Score  \\\n",
       "0   Your ratings (select if applicable)              None  None   \n",
       "1   Cannot get face to face appointment     June 26, 2023     2   \n",
       "2           Very happy with the surgery  January 23, 2023     4   \n",
       "3                  Ask My GP is quicker  January 23, 2023     5   \n",
       "4                         Drs very good  January 23, 2023     4   \n",
       "5           Not listened to brilliantly  January 23, 2023     4   \n",
       "6              Long wait for blood test  January 23, 2023     2   \n",
       "7                                 Happy  January 23, 2023     4   \n",
       "8                            Works well  January 23, 2023     4   \n",
       "9                       Not listened to  January 23, 2023     3   \n",
       "10                        Slow response  January 23, 2023     2   \n",
       "\n",
       "                                                 Body  \n",
       "0                                                None  \n",
       "1   I just cannot get a face to face appointment w...  \n",
       "2   I feel I'm getting on very well with the surge...  \n",
       "3   I've found that Ask My GP is a quicker service...  \n",
       "4   Doctors are very good as are reception, I've n...  \n",
       "5   Haven't had a great experience as I don't feel...  \n",
       "6   I've had to wait 6 weeks for a blood test only...  \n",
       "7   I'm a very light user of the surgery and altho...  \n",
       "8   Using Ask My GP works well and allows you to s...  \n",
       "9   I do feel that I have been raising concerns fo...  \n",
       "10  I had blood tests for something quite serious ...  "
      ]
     },
     "execution_count": 85,
     "metadata": {},
     "output_type": "execute_result"
    }
   ],
   "source": [
    "df"
   ]
  },
  {
   "cell_type": "code",
   "execution_count": 134,
   "id": "79126d86",
   "metadata": {},
   "outputs": [
    {
     "name": "stderr",
     "output_type": "stream",
     "text": [
      "C:\\Users\\Deepali Thakur\\AppData\\Local\\Temp\\ipykernel_17200\\887750399.py:51: FutureWarning: The frame.append method is deprecated and will be removed from pandas in a future version. Use pandas.concat instead.\n",
      "  final3 = final3.append(df, ignore_index=True)\n",
      "C:\\Users\\Deepali Thakur\\AppData\\Local\\Temp\\ipykernel_17200\\887750399.py:51: FutureWarning: The frame.append method is deprecated and will be removed from pandas in a future version. Use pandas.concat instead.\n",
      "  final3 = final3.append(df, ignore_index=True)\n",
      "C:\\Users\\Deepali Thakur\\AppData\\Local\\Temp\\ipykernel_17200\\887750399.py:51: FutureWarning: The frame.append method is deprecated and will be removed from pandas in a future version. Use pandas.concat instead.\n",
      "  final3 = final3.append(df, ignore_index=True)\n",
      "C:\\Users\\Deepali Thakur\\AppData\\Local\\Temp\\ipykernel_17200\\887750399.py:51: FutureWarning: The frame.append method is deprecated and will be removed from pandas in a future version. Use pandas.concat instead.\n",
      "  final3 = final3.append(df, ignore_index=True)\n",
      "C:\\Users\\Deepali Thakur\\AppData\\Local\\Temp\\ipykernel_17200\\887750399.py:51: FutureWarning: The frame.append method is deprecated and will be removed from pandas in a future version. Use pandas.concat instead.\n",
      "  final3 = final3.append(df, ignore_index=True)\n",
      "C:\\Users\\Deepali Thakur\\AppData\\Local\\Temp\\ipykernel_17200\\887750399.py:51: FutureWarning: The frame.append method is deprecated and will be removed from pandas in a future version. Use pandas.concat instead.\n",
      "  final3 = final3.append(df, ignore_index=True)\n",
      "C:\\Users\\Deepali Thakur\\AppData\\Local\\Temp\\ipykernel_17200\\887750399.py:51: FutureWarning: The frame.append method is deprecated and will be removed from pandas in a future version. Use pandas.concat instead.\n",
      "  final3 = final3.append(df, ignore_index=True)\n",
      "C:\\Users\\Deepali Thakur\\AppData\\Local\\Temp\\ipykernel_17200\\887750399.py:51: FutureWarning: The frame.append method is deprecated and will be removed from pandas in a future version. Use pandas.concat instead.\n",
      "  final3 = final3.append(df, ignore_index=True)\n",
      "C:\\Users\\Deepali Thakur\\AppData\\Local\\Temp\\ipykernel_17200\\887750399.py:51: FutureWarning: The frame.append method is deprecated and will be removed from pandas in a future version. Use pandas.concat instead.\n",
      "  final3 = final3.append(df, ignore_index=True)\n",
      "C:\\Users\\Deepali Thakur\\AppData\\Local\\Temp\\ipykernel_17200\\887750399.py:51: FutureWarning: The frame.append method is deprecated and will be removed from pandas in a future version. Use pandas.concat instead.\n",
      "  final3 = final3.append(df, ignore_index=True)\n",
      "C:\\Users\\Deepali Thakur\\AppData\\Local\\Temp\\ipykernel_17200\\887750399.py:51: FutureWarning: The frame.append method is deprecated and will be removed from pandas in a future version. Use pandas.concat instead.\n",
      "  final3 = final3.append(df, ignore_index=True)\n",
      "C:\\Users\\Deepali Thakur\\AppData\\Local\\Temp\\ipykernel_17200\\887750399.py:51: FutureWarning: The frame.append method is deprecated and will be removed from pandas in a future version. Use pandas.concat instead.\n",
      "  final3 = final3.append(df, ignore_index=True)\n",
      "C:\\Users\\Deepali Thakur\\AppData\\Local\\Temp\\ipykernel_17200\\887750399.py:51: FutureWarning: The frame.append method is deprecated and will be removed from pandas in a future version. Use pandas.concat instead.\n",
      "  final3 = final3.append(df, ignore_index=True)\n",
      "C:\\Users\\Deepali Thakur\\AppData\\Local\\Temp\\ipykernel_17200\\887750399.py:51: FutureWarning: The frame.append method is deprecated and will be removed from pandas in a future version. Use pandas.concat instead.\n",
      "  final3 = final3.append(df, ignore_index=True)\n",
      "C:\\Users\\Deepali Thakur\\AppData\\Local\\Temp\\ipykernel_17200\\887750399.py:51: FutureWarning: The frame.append method is deprecated and will be removed from pandas in a future version. Use pandas.concat instead.\n",
      "  final3 = final3.append(df, ignore_index=True)\n",
      "C:\\Users\\Deepali Thakur\\AppData\\Local\\Temp\\ipykernel_17200\\887750399.py:51: FutureWarning: The frame.append method is deprecated and will be removed from pandas in a future version. Use pandas.concat instead.\n",
      "  final3 = final3.append(df, ignore_index=True)\n",
      "C:\\Users\\Deepali Thakur\\AppData\\Local\\Temp\\ipykernel_17200\\887750399.py:51: FutureWarning: The frame.append method is deprecated and will be removed from pandas in a future version. Use pandas.concat instead.\n",
      "  final3 = final3.append(df, ignore_index=True)\n",
      "C:\\Users\\Deepali Thakur\\AppData\\Local\\Temp\\ipykernel_17200\\887750399.py:51: FutureWarning: The frame.append method is deprecated and will be removed from pandas in a future version. Use pandas.concat instead.\n",
      "  final3 = final3.append(df, ignore_index=True)\n",
      "C:\\Users\\Deepali Thakur\\AppData\\Local\\Temp\\ipykernel_17200\\887750399.py:51: FutureWarning: The frame.append method is deprecated and will be removed from pandas in a future version. Use pandas.concat instead.\n",
      "  final3 = final3.append(df, ignore_index=True)\n",
      "C:\\Users\\Deepali Thakur\\AppData\\Local\\Temp\\ipykernel_17200\\887750399.py:51: FutureWarning: The frame.append method is deprecated and will be removed from pandas in a future version. Use pandas.concat instead.\n",
      "  final3 = final3.append(df, ignore_index=True)\n",
      "C:\\Users\\Deepali Thakur\\AppData\\Local\\Temp\\ipykernel_17200\\887750399.py:51: FutureWarning: The frame.append method is deprecated and will be removed from pandas in a future version. Use pandas.concat instead.\n",
      "  final3 = final3.append(df, ignore_index=True)\n",
      "C:\\Users\\Deepali Thakur\\AppData\\Local\\Temp\\ipykernel_17200\\887750399.py:51: FutureWarning: The frame.append method is deprecated and will be removed from pandas in a future version. Use pandas.concat instead.\n",
      "  final3 = final3.append(df, ignore_index=True)\n",
      "C:\\Users\\Deepali Thakur\\AppData\\Local\\Temp\\ipykernel_17200\\887750399.py:51: FutureWarning: The frame.append method is deprecated and will be removed from pandas in a future version. Use pandas.concat instead.\n",
      "  final3 = final3.append(df, ignore_index=True)\n"
     ]
    }
   ],
   "source": [
    "import pandas as pd\n",
    "from selenium import webdriver\n",
    "from bs4 import BeautifulSoup\n",
    "\n",
    "final3 = pd.DataFrame()\n",
    "\n",
    "for j in range(1, 24):\n",
    "    # Create a Selenium WebDriver instance\n",
    "    driver = webdriver.Chrome()\n",
    "\n",
    "    # Open the URL and get the page source\n",
    "    url = f'https://healthwatchsuffolk.co.uk/services/woolpit-health-centre-bury-st-edmunds-1?page={j}'\n",
    "    driver.get(url)\n",
    "    page_source = driver.page_source\n",
    "\n",
    "    # Create a BeautifulSoup object from the page source\n",
    "    soup = BeautifulSoup(page_source, 'html.parser')\n",
    "\n",
    "    # Find the service reviews\n",
    "    services = soup.find_all('div', class_='service-review')\n",
    "\n",
    "    Title = []\n",
    "    Date = []\n",
    "    Score = []\n",
    "    Body = []\n",
    "\n",
    "    for i in services:\n",
    "        if i is not None:\n",
    "            title = i.find('h3').text.strip()\n",
    "            date_elem = i.find('div', class_='service-review-date')\n",
    "            date = date_elem.text.strip() if date_elem else None\n",
    "\n",
    "            # Get the score (if available)\n",
    "            score_input = i.find('input', {'name': 'score'})\n",
    "            score = score_input['value'] if score_input else None\n",
    "\n",
    "            body_elem = i.find('div', class_='service-review-body')\n",
    "            body = body_elem.text.strip() if body_elem else None\n",
    "\n",
    "            Title.append(title)\n",
    "            Date.append(date)\n",
    "            Score.append(score)\n",
    "            Body.append(body)\n",
    "\n",
    "    # Close the Selenium WebDriver\n",
    "    driver.quit()\n",
    "\n",
    "    # Create a DataFrame\n",
    "    df = pd.DataFrame({'Title': Title, 'Date': Date, 'Score': Score, 'Body': Body})\n",
    "\n",
    "    final3 = final3.append(df, ignore_index=True)\n"
   ]
  },
  {
   "cell_type": "code",
   "execution_count": 135,
   "id": "831cf730",
   "metadata": {},
   "outputs": [
    {
     "name": "stdout",
     "output_type": "stream",
     "text": [
      "<class 'pandas.core.frame.DataFrame'>\n",
      "RangeIndex: 240 entries, 0 to 239\n",
      "Data columns (total 4 columns):\n",
      " #   Column  Non-Null Count  Dtype \n",
      "---  ------  --------------  ----- \n",
      " 0   Title   240 non-null    object\n",
      " 1   Date    217 non-null    object\n",
      " 2   Score   217 non-null    object\n",
      " 3   Body    217 non-null    object\n",
      "dtypes: object(4)\n",
      "memory usage: 7.6+ KB\n"
     ]
    }
   ],
   "source": [
    "final3.info()"
   ]
  },
  {
   "cell_type": "code",
   "execution_count": 136,
   "id": "2f0ef3ff",
   "metadata": {},
   "outputs": [],
   "source": [
    "final3.to_csv('C:/Users/Deepali Thakur/OneDrive - University of Suffolk/Desktop/DISSERTATION/Woolpit.csv',index= False)"
   ]
  },
  {
   "cell_type": "code",
   "execution_count": null,
   "id": "6d9170f7",
   "metadata": {},
   "outputs": [],
   "source": []
  }
 ],
 "metadata": {
  "kernelspec": {
   "display_name": "Python 3 (ipykernel)",
   "language": "python",
   "name": "python3"
  },
  "language_info": {
   "codemirror_mode": {
    "name": "ipython",
    "version": 3
   },
   "file_extension": ".py",
   "mimetype": "text/x-python",
   "name": "python",
   "nbconvert_exporter": "python",
   "pygments_lexer": "ipython3",
   "version": "3.11.4"
  }
 },
 "nbformat": 4,
 "nbformat_minor": 5
}
